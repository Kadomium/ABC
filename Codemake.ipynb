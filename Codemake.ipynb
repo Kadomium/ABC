{
  "nbformat": 4,
  "nbformat_minor": 0,
  "metadata": {
    "colab": {
      "provenance": [],
      "authorship_tag": "ABX9TyOhhEe6YyROusk5HO4NqrVJ",
      "include_colab_link": true
    },
    "kernelspec": {
      "name": "python3",
      "display_name": "Python 3"
    },
    "language_info": {
      "name": "python"
    }
  },
  "cells": [
    {
      "cell_type": "markdown",
      "metadata": {
        "id": "view-in-github",
        "colab_type": "text"
      },
      "source": [
        "<a href=\"https://colab.research.google.com/github/Kadomium/ABC/blob/main/Codemake.ipynb\" target=\"_parent\"><img src=\"https://colab.research.google.com/assets/colab-badge.svg\" alt=\"Open In Colab\"/></a>"
      ]
    },
    {
      "cell_type": "code",
      "source": [
        "import random\n",
        "\n",
        "def get_random_elements(element):\n",
        "  num_elements = random.choices([1, 2], weights=[0.4, 0.6], k=1)[0] # コーデの基礎になる「かわいい名前」を何個つけるか、基本的に1から2個だったためこうしている\n",
        "  random_elements = random.sample(element, num_elements)\n",
        "  return random_elements  # 文字列を連結して返す\n",
        "\n",
        "def get_random_princess(additional):\n",
        "  num_additional = random.choices([0, 1], weights=[0.6, 0.4], k=1)[0]  # 特別なコーデは最後にバズリウムや名前がつくため、それを1個付けるか付けないか\n",
        "  if num_additional == 0:\n",
        "    return []  # 0個の場合は空のリストを返す\n",
        "  else:\n",
        "    return random.sample(additional, num_additional)  # 1個の場合はランダムに要素を抽出\n",
        "\n",
        "def get_random_colour(theme):\n",
        "  num_theme = random.choices([0, 1], weights=[0.7, 0.3], k=1)[0]  # 色のワードが0か1個か、という話\n",
        "  if num_theme == 0:\n",
        "    return []  # 0個の場合は空のリストを返す\n",
        "  else:\n",
        "    return random.sample(theme, num_theme)  # 1個の場合はランダムに要素を抽出"
      ],
      "metadata": {
        "id": "ygMm_lxurKSg"
      },
      "execution_count": 1,
      "outputs": []
    },
    {
      "cell_type": "code",
      "source": [
        "def code_make():\n",
        "\n",
        "  # ここにコーデの基礎となる名前を入れていく\n",
        "  element = ['スノー', 'ラビット', 'ロイヤル', 'ジュエル', 'フラワー', 'ブリリアント', 'ドリーミー', 'アフヌン', 'ジュエル', 'アリス', 'パラダイス']\n",
        "  elements = get_random_elements(element)\n",
        "\n",
        "  # ここに特別なコーデの名前を入れていく\n",
        "  additional = ['グランプリ', 'バズリウム', 'アイプリバース']\n",
        "  princess = get_random_princess(additional)\n",
        "\n",
        "  # ここに色の名前を入れていく\n",
        "  theme = ['ピンク','ブルー', 'イエロー', 'パープル', 'レッド', 'グリーン', 'オレンジ']\n",
        "  colour = get_random_colour(theme)\n",
        "  code_name = elements + princess + colour + ['コーデ']\n",
        "  return ''.join(code_name)"
      ],
      "metadata": {
        "id": "jgQoyr9mw5XA"
      },
      "execution_count": 2,
      "outputs": []
    },
    {
      "cell_type": "code",
      "source": [
        "code_make()"
      ],
      "metadata": {
        "colab": {
          "base_uri": "https://localhost:8080/",
          "height": 35
        },
        "id": "hcXy5AxCnOb_",
        "outputId": "c205af52-baa5-4041-f7bf-313d98b67fc0"
      },
      "execution_count": 3,
      "outputs": [
        {
          "output_type": "execute_result",
          "data": {
            "text/plain": [
              "'パラダイススノーバズリウムコーデ'"
            ],
            "application/vnd.google.colaboratory.intrinsic+json": {
              "type": "string"
            }
          },
          "metadata": {},
          "execution_count": 3
        }
      ]
    }
  ]
}