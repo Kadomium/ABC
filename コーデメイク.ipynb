{
  "nbformat": 4,
  "nbformat_minor": 0,
  "metadata": {
    "colab": {
      "provenance": [],
      "authorship_tag": "ABX9TyPWz0OINkbpWYb6HsPztNM0",
      "include_colab_link": true
    },
    "kernelspec": {
      "name": "python3",
      "display_name": "Python 3"
    },
    "language_info": {
      "name": "python"
    }
  },
  "cells": [
    {
      "cell_type": "markdown",
      "metadata": {
        "id": "view-in-github",
        "colab_type": "text"
      },
      "source": [
        "<a href=\"https://colab.research.google.com/github/Kadomium/ABC/blob/main/%E3%82%B3%E3%83%BC%E3%83%87%E3%83%A1%E3%82%A4%E3%82%AF.ipynb\" target=\"_parent\"><img src=\"https://colab.research.google.com/assets/colab-badge.svg\" alt=\"Open In Colab\"/></a>"
      ]
    },
    {
      "cell_type": "code",
      "source": [
        "import pandas as pd\n",
        "import random\n",
        "\n",
        "df = pd.read_csv('element.csv')\n",
        "\n",
        "def get_random_elements(file_path, column_name):\n",
        "  num_elements = random.choice([1, 2])\n",
        "  random_elements = random.sample(df[column_name].tolist(), num_elements)\n",
        "  return random_elements  # 文字列を連結して返す\n",
        "\n",
        "def get_random_princess(additional):\n",
        "  num_additional = random.choice([0, 1])  # 0または1をランダムに選択\n",
        "  if num_additional == 0:\n",
        "    return []  # 0個の場合は空のリストを返す\n",
        "  else:\n",
        "    return random.sample(additional, num_additional)  # 1個の場合はランダムに要素を抽出\n",
        "\n",
        "def get_random_colour(theme):\n",
        "  num_theme = random.choice([0, 1])  # 0または1をランダムに選択\n",
        "  if num_theme == 0:\n",
        "    return []  # 0個の場合は空のリストを返す\n",
        "  else:\n",
        "    return random.sample(theme, num_theme)  # 1個の場合はランダムに要素を抽出"
      ],
      "metadata": {
        "id": "ygMm_lxurKSg"
      },
      "execution_count": 1,
      "outputs": []
    },
    {
      "cell_type": "code",
      "source": [
        "def code_make():\n",
        "  element = get_random_elements('element.csv', 'element')\n",
        "  additional = ['グランプリ', 'バズリウム']\n",
        "  princess = get_random_princess(additional)\n",
        "  theme = ['ピンク','ブルー', 'イエロー', 'パープル', 'レッド', 'グリーン', 'オレンジ']\n",
        "  colour = get_random_colour(theme)\n",
        "  code_name = element + princess + colour + ['コーデ']\n",
        "  return ''.join(code_name)"
      ],
      "metadata": {
        "id": "jgQoyr9mw5XA"
      },
      "execution_count": 2,
      "outputs": []
    },
    {
      "cell_type": "code",
      "source": [
        "code_make()"
      ],
      "metadata": {
        "colab": {
          "base_uri": "https://localhost:8080/",
          "height": 35
        },
        "id": "hcXy5AxCnOb_",
        "outputId": "c16f54b0-f695-4e6f-b129-bd925f1f91ff"
      },
      "execution_count": 10,
      "outputs": [
        {
          "output_type": "execute_result",
          "data": {
            "text/plain": [
              "'スノーロイヤルコーデ'"
            ],
            "application/vnd.google.colaboratory.intrinsic+json": {
              "type": "string"
            }
          },
          "metadata": {},
          "execution_count": 10
        }
      ]
    }
  ]
}